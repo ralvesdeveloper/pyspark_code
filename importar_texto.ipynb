{
 "cells": [
  {
   "cell_type": "code",
   "execution_count": 1,
   "id": "eeb82632",
   "metadata": {},
   "outputs": [
    {
     "name": "stdout",
     "output_type": "stream",
     "text": [
      "+-------------+------------------------------------------------------------------------------------------------------------------------------------------------------------------------------------------+\n",
      "|num_versiculo|texto_versiculo                                                                                                                                                                           |\n",
      "+-------------+------------------------------------------------------------------------------------------------------------------------------------------------------------------------------------------+\n",
      "|1            |Amados, não creiais a todo o espírito, mas provai se os espíritos são de Deus, porque já muitos falsos profetas se têm levantado no mundo.                                                |\n",
      "|2            |Nisto conhecereis o Espírito de Deus: Todo o espírito que confessa que Jesus Cristo veio em carne é de Deus                                                                               |\n",
      "|3            |E todo o espírito que não confessa que Jesus Cristo veio em carne não é de Deus; mas este é o espírito do anticristo, do qual já ouvistes que há de vir, e eis que já agora está no mundo.|\n",
      "+-------------+------------------------------------------------------------------------------------------------------------------------------------------------------------------------------------------+\n",
      "\n"
     ]
    }
   ],
   "source": [
    "from pyspark.sql import *\n",
    "\n",
    "if __name__ == \"__main__\":\n",
    "\n",
    "    spark = SparkSession.builder \\\n",
    "            .appName(\"other\") \\\n",
    "            .master(\"local[3]\") \\\n",
    "            .getOrCreate()\n",
    "\n",
    "   # data_list = [(\"Ravi\",28),\n",
    "   #              (\"David\",45),\n",
    "   #              (\"Abdul\", 37)]\n",
    "\n",
    "   # df = spark.createDataFrame(data_list).toDF(\"Name\", \"Age\")\n",
    "   # df.show()\n",
    "\n",
    "    df = spark.read \\\n",
    "        .option(\"header\",\"true\") \\\n",
    "        .csv(\"C:\\sources\\JO4.csv\",sep='-',inferSchema='true', encoding='CP1252')\n",
    "\n",
    "    df.show(truncate=False)\n",
    "\n"
   ]
  },
  {
   "cell_type": "code",
   "execution_count": null,
   "id": "fdadf70c",
   "metadata": {},
   "outputs": [],
   "source": []
  },
  {
   "cell_type": "code",
   "execution_count": null,
   "id": "ac8e4b95",
   "metadata": {},
   "outputs": [],
   "source": []
  }
 ],
 "metadata": {
  "kernelspec": {
   "display_name": "Python 3 (ipykernel)",
   "language": "python",
   "name": "python3"
  },
  "language_info": {
   "codemirror_mode": {
    "name": "ipython",
    "version": 3
   },
   "file_extension": ".py",
   "mimetype": "text/x-python",
   "name": "python",
   "nbconvert_exporter": "python",
   "pygments_lexer": "ipython3",
   "version": "3.7.0"
  }
 },
 "nbformat": 4,
 "nbformat_minor": 5
}
