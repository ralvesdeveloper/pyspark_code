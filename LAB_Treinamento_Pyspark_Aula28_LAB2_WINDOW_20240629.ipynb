{
 "cells": [
  {
   "cell_type": "code",
   "execution_count": 6,
   "id": "44f5df65",
   "metadata": {},
   "outputs": [],
   "source": [
    "#Aula 28 - FUNCAO WINDOW"
   ]
  },
  {
   "cell_type": "code",
   "execution_count": 7,
   "id": "c21cb051",
   "metadata": {},
   "outputs": [],
   "source": [
    "#seção imports\n",
    "from pyspark.sql import SparkSession\n",
    "import findspark\n",
    "import os\n",
    "import pyspark.sql.functions as F\n",
    "import pyspark.sql.types as T\n",
    "from pyspark.sql.window import Window"
   ]
  },
  {
   "cell_type": "code",
   "execution_count": 8,
   "id": "16bceb3f",
   "metadata": {},
   "outputs": [],
   "source": [
    "from pyspark.sql import SparkSession"
   ]
  },
  {
   "cell_type": "code",
   "execution_count": 9,
   "id": "1d422206",
   "metadata": {},
   "outputs": [],
   "source": [
    "# Este seção cria o APPNAME e configura o formato de saida da função show()\n",
    "spark = ( \n",
    "    SparkSession.builder\n",
    "    .master(\"local\")\n",
    "    .appName('ralves_sess_window')\n",
    "    .config (\"spark.sql.repl.eagerEval.enabled\",True)\n",
    "    .getOrCreate()\n",
    ")"
   ]
  },
  {
   "cell_type": "code",
   "execution_count": 10,
   "id": "a8601a32",
   "metadata": {},
   "outputs": [
    {
     "data": {
      "text/html": [
       "\n",
       "            <div>\n",
       "                <p><b>SparkSession - in-memory</b></p>\n",
       "                \n",
       "        <div>\n",
       "            <p><b>SparkContext</b></p>\n",
       "\n",
       "            <p><a href=\"http://INEX-5098.portoseguro.brasil:4043\">Spark UI</a></p>\n",
       "\n",
       "            <dl>\n",
       "              <dt>Version</dt>\n",
       "                <dd><code>v2.4.8</code></dd>\n",
       "              <dt>Master</dt>\n",
       "                <dd><code>local</code></dd>\n",
       "              <dt>AppName</dt>\n",
       "                <dd><code>ralves_sess_window</code></dd>\n",
       "            </dl>\n",
       "        </div>\n",
       "        \n",
       "            </div>\n",
       "        "
      ],
      "text/plain": [
       "<pyspark.sql.session.SparkSession at 0x1f110f185c0>"
      ]
     },
     "execution_count": 10,
     "metadata": {},
     "output_type": "execute_result"
    }
   ],
   "source": [
    "spark"
   ]
  },
  {
   "cell_type": "code",
   "execution_count": 11,
   "id": "d2b211f5",
   "metadata": {},
   "outputs": [],
   "source": [
    "#comando para parar uma seção SPARK\n",
    "# spark.stop()"
   ]
  },
  {
   "cell_type": "code",
   "execution_count": 12,
   "id": "bdb0ca65",
   "metadata": {},
   "outputs": [
    {
     "name": "stdout",
     "output_type": "stream",
     "text": [
      "3.7.0\n"
     ]
    }
   ],
   "source": [
    "#describe python version\n",
    "from platform import python_version\n",
    "print(python_version())"
   ]
  },
  {
   "cell_type": "code",
   "execution_count": 17,
   "id": "577417e2",
   "metadata": {},
   "outputs": [],
   "source": [
    "# Criando uma sessão Spark\n",
    "spark = SparkSession.builder.appName(\"Window Functions Example\").getOrCreate()\n",
    " \n",
    "# Exemplo de dados\n",
    "data = [\n",
    "    (\"Produto A\", \"2023-06-01\", 1),\n",
    "    (\"Produto A\", \"2023-06-02\", 2),\n",
    "    (\"Produto A\", \"2023-06-03\", 3),\n",
    "    (\"Produto B\", \"2023-06-01\", 4),\n",
    "    (\"Produto B\", \"2023-06-02\", 5),\n",
    "    (\"Produto B\", \"2023-06-03\", 6),\n",
    "    (\"Produto C\", \"2024-06-04\", 7),\n",
    "    (\"Produto C\", \"2024-06-04\", 8),\n",
    "    (\"Produto C\", \"2024-06-04\", 9)\n",
    "]\n",
    " \n",
    "# Criando um DataFrame\n",
    "df = spark.createDataFrame(data, [\"Produto\", \"Data\", \"Vendas\"])\n",
    " \n",
    "# Definindo a janela\n",
    "window_spec = Window.partitionBy(\"Produto\").orderBy(\"Data\").rowsBetween(Window.unboundedPreceding, Window.currentRow)\n",
    " \n",
    "# Calculando a média móvel\n",
    "df = (df\n",
    "      .withColumn(\"Soma Cumulativa\", F.sum(\"Vendas\").over(window_spec))\n",
    "      .withColumn(\"Média\", F.avg(\"Vendas\").over(window_spec))\n",
    "     )"
   ]
  },
  {
   "cell_type": "code",
   "execution_count": 18,
   "id": "bc01c67d",
   "metadata": {},
   "outputs": [
    {
     "name": "stdout",
     "output_type": "stream",
     "text": [
      "+---------+----------+------+---------------+-----+\n",
      "|  Produto|      Data|Vendas|Soma Cumulativa|Média|\n",
      "+---------+----------+------+---------------+-----+\n",
      "|Produto B|2023-06-01|     4|              4|  4.0|\n",
      "|Produto B|2023-06-02|     5|              9|  4.5|\n",
      "|Produto B|2023-06-03|     6|             15|  5.0|\n",
      "|Produto C|2024-06-04|     7|              7|  7.0|\n",
      "|Produto C|2024-06-04|     8|             15|  7.5|\n",
      "|Produto C|2024-06-04|     9|             24|  8.0|\n",
      "|Produto A|2023-06-01|     1|              1|  1.0|\n",
      "|Produto A|2023-06-02|     2|              3|  1.5|\n",
      "|Produto A|2023-06-03|     3|              6|  2.0|\n",
      "+---------+----------+------+---------------+-----+\n",
      "\n"
     ]
    }
   ],
   "source": [
    "df.show()"
   ]
  },
  {
   "cell_type": "code",
   "execution_count": null,
   "id": "1c5f4ca6",
   "metadata": {},
   "outputs": [],
   "source": []
  }
 ],
 "metadata": {
  "kernelspec": {
   "display_name": "Python 3 (ipykernel)",
   "language": "python",
   "name": "python3"
  },
  "language_info": {
   "codemirror_mode": {
    "name": "ipython",
    "version": 3
   },
   "file_extension": ".py",
   "mimetype": "text/x-python",
   "name": "python",
   "nbconvert_exporter": "python",
   "pygments_lexer": "ipython3",
   "version": "3.7.0"
  }
 },
 "nbformat": 4,
 "nbformat_minor": 5
}
