{
 "cells": [
  {
   "cell_type": "markdown",
   "id": "1053daa6",
   "metadata": {},
   "source": [
    "# Aula 24 - EXPORT DATA FRAME"
   ]
  },
  {
   "cell_type": "code",
   "execution_count": 2,
   "id": "c21cb051",
   "metadata": {},
   "outputs": [],
   "source": [
    "#seção imports\n",
    "import findspark\n",
    "import os\n",
    "import pyspark.sql.functions as R"
   ]
  },
  {
   "cell_type": "code",
   "execution_count": 3,
   "id": "16bceb3f",
   "metadata": {},
   "outputs": [],
   "source": [
    "from pyspark.sql import SparkSession"
   ]
  },
  {
   "cell_type": "code",
   "execution_count": 4,
   "id": "1d422206",
   "metadata": {},
   "outputs": [],
   "source": [
    "# Este seção cria o APPNAME e configura o formato de saida da função show()\n",
    "# SparkSession é o processo que controla as aplicações em execução no nodes \n",
    "spark = ( \n",
    "    SparkSession.builder\n",
    "    .master(\"local\")\n",
    "    .appName('ralves_sess_dframes')\n",
    "    .config (\"spark.sql.repl.eagerEval.enabled\",True)\n",
    "    .getOrCreate()\n",
    ")"
   ]
  },
  {
   "cell_type": "code",
   "execution_count": 5,
   "id": "a8601a32",
   "metadata": {},
   "outputs": [
    {
     "data": {
      "text/html": [
       "\n",
       "            <div>\n",
       "                <p><b>SparkSession - in-memory</b></p>\n",
       "                \n",
       "        <div>\n",
       "            <p><b>SparkContext</b></p>\n",
       "\n",
       "            <p><a href=\"http://INEX-5098.portoseguro.brasil:4041\">Spark UI</a></p>\n",
       "\n",
       "            <dl>\n",
       "              <dt>Version</dt>\n",
       "                <dd><code>v2.4.8</code></dd>\n",
       "              <dt>Master</dt>\n",
       "                <dd><code>local</code></dd>\n",
       "              <dt>AppName</dt>\n",
       "                <dd><code>ralves_sess_dframes</code></dd>\n",
       "            </dl>\n",
       "        </div>\n",
       "        \n",
       "            </div>\n",
       "        "
      ],
      "text/plain": [
       "<pyspark.sql.session.SparkSession at 0x138d1efdc18>"
      ]
     },
     "execution_count": 5,
     "metadata": {},
     "output_type": "execute_result"
    }
   ],
   "source": [
    "spark"
   ]
  },
  {
   "cell_type": "code",
   "execution_count": 16,
   "id": "a0ecd47b",
   "metadata": {},
   "outputs": [],
   "source": [
    "#comando para parar a seção do spark\n",
    "#spark.stop()"
   ]
  },
  {
   "cell_type": "code",
   "execution_count": 7,
   "id": "bdb0ca65",
   "metadata": {},
   "outputs": [
    {
     "name": "stdout",
     "output_type": "stream",
     "text": [
      "3.7.0\n"
     ]
    }
   ],
   "source": [
    "#describe python version\n",
    "from platform import python_version\n",
    "print(python_version())"
   ]
  },
  {
   "cell_type": "code",
   "execution_count": 8,
   "id": "faa36636",
   "metadata": {},
   "outputs": [],
   "source": [
    "cliente_eng = spark.createDataFrame([(1,\"Mike\",\"carro\"),(1,\"Mike\",\"carro\"),(1,\"Mike\",\"brinquedo\"),(2,\"Steve\",\"brinquedo\")],[\"id\",\"cliente\",\"produto\"])"
   ]
  },
  {
   "cell_type": "code",
   "execution_count": 9,
   "id": "72c3c600",
   "metadata": {},
   "outputs": [
    {
     "data": {
      "text/html": [
       "<table border='1'>\n",
       "<tr><th>id</th><th>cliente</th><th>produto</th></tr>\n",
       "<tr><td>1</td><td>Mike</td><td>carro</td></tr>\n",
       "<tr><td>1</td><td>Mike</td><td>carro</td></tr>\n",
       "<tr><td>1</td><td>Mike</td><td>brinquedo</td></tr>\n",
       "<tr><td>2</td><td>Steve</td><td>brinquedo</td></tr>\n",
       "</table>\n"
      ],
      "text/plain": [
       "+---+-------+---------+\n",
       "| id|cliente|  produto|\n",
       "+---+-------+---------+\n",
       "|  1|   Mike|    carro|\n",
       "|  1|   Mike|    carro|\n",
       "|  1|   Mike|brinquedo|\n",
       "|  2|  Steve|brinquedo|\n",
       "+---+-------+---------+"
      ]
     },
     "execution_count": 9,
     "metadata": {},
     "output_type": "execute_result"
    }
   ],
   "source": [
    "cliente_eng"
   ]
  },
  {
   "cell_type": "code",
   "execution_count": 10,
   "id": "1458bfa7",
   "metadata": {
    "scrolled": true
   },
   "outputs": [
    {
     "name": "stdout",
     "output_type": "stream",
     "text": [
      "+---+-------+---------+\n",
      "| id|cliente|  produto|\n",
      "+---+-------+---------+\n",
      "|  1|   Mike|brinquedo|\n",
      "|  2|  Steve|brinquedo|\n",
      "|  1|   Mike|    carro|\n",
      "+---+-------+---------+\n",
      "\n"
     ]
    }
   ],
   "source": [
    "cliente_unico=cliente_eng.dropDuplicates().show()"
   ]
  },
  {
   "cell_type": "code",
   "execution_count": 11,
   "id": "6b0237c5",
   "metadata": {
    "scrolled": true
   },
   "outputs": [
    {
     "name": "stdout",
     "output_type": "stream",
     "text": [
      "+---+-------+---------+\n",
      "| id|cliente|  produto|\n",
      "+---+-------+---------+\n",
      "|  2|  Steve|brinquedo|\n",
      "|  1|   Mike|    carro|\n",
      "+---+-------+---------+\n",
      "\n"
     ]
    }
   ],
   "source": [
    "cliente_unico=cliente_eng.dropDuplicates(['cliente']).show()"
   ]
  },
  {
   "cell_type": "code",
   "execution_count": 12,
   "id": "86d00f16",
   "metadata": {},
   "outputs": [],
   "source": [
    "produto_unico=cliente_eng.dropDuplicates(['cliente','produto'])"
   ]
  },
  {
   "cell_type": "code",
   "execution_count": 17,
   "id": "41ae8d96",
   "metadata": {},
   "outputs": [
    {
     "name": "stdout",
     "output_type": "stream",
     "text": [
      "== Physical Plan ==\n",
      "HashAggregate(keys=[produto#2], functions=[pivotfirst(cliente#1, count(1)#206L, Mike, Steve, 0, 0)])\n",
      "+- Exchange hashpartitioning(produto#2, 200)\n",
      "   +- HashAggregate(keys=[produto#2], functions=[partial_pivotfirst(cliente#1, count(1)#206L, Mike, Steve, 0, 0)])\n",
      "      +- *(2) HashAggregate(keys=[produto#2, cliente#1], functions=[count(1)])\n",
      "         +- *(2) HashAggregate(keys=[produto#2, cliente#1], functions=[partial_count(1)])\n",
      "            +- *(2) HashAggregate(keys=[cliente#1, produto#2], functions=[])\n",
      "               +- Exchange hashpartitioning(cliente#1, produto#2, 200)\n",
      "                  +- *(1) HashAggregate(keys=[cliente#1, produto#2], functions=[])\n",
      "                     +- *(1) Project [cliente#1, produto#2]\n",
      "                        +- Scan ExistingRDD[id#0L,cliente#1,produto#2]\n"
     ]
    }
   ],
   "source": [
    "#pivot table\n",
    "\n",
    "prd_cliente= (\n",
    "    produto_unico\n",
    "    .withColumn('mes',R.current_date())\n",
    "    .groupBy('produto')\n",
    "    .pivot('cliente')\n",
    "    .agg(R.count('*'))\n",
    ").explain()"
   ]
  },
  {
   "cell_type": "markdown",
   "id": "a8c0a0ad",
   "metadata": {},
   "source": [
    "##### prd_cliente"
   ]
  },
  {
   "cell_type": "code",
   "execution_count": null,
   "id": "68f600f5",
   "metadata": {},
   "outputs": [],
   "source": []
  }
 ],
 "metadata": {
  "kernelspec": {
   "display_name": "Python 3 (ipykernel)",
   "language": "python",
   "name": "python3"
  },
  "language_info": {
   "codemirror_mode": {
    "name": "ipython",
    "version": 3
   },
   "file_extension": ".py",
   "mimetype": "text/x-python",
   "name": "python",
   "nbconvert_exporter": "python",
   "pygments_lexer": "ipython3",
   "version": "3.7.0"
  }
 },
 "nbformat": 4,
 "nbformat_minor": 5
}
