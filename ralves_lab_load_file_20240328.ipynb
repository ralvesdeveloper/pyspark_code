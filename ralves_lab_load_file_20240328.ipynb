{
 "cells": [
  {
   "cell_type": "code",
   "execution_count": 2,
   "id": "b80e2641",
   "metadata": {},
   "outputs": [],
   "source": [
    "import findspark"
   ]
  },
  {
   "cell_type": "code",
   "execution_count": 3,
   "id": "697e78c8",
   "metadata": {},
   "outputs": [],
   "source": [
    "findspark.init()"
   ]
  },
  {
   "cell_type": "code",
   "execution_count": 4,
   "id": "af92ebf1",
   "metadata": {},
   "outputs": [],
   "source": [
    "import pyspark"
   ]
  },
  {
   "cell_type": "code",
   "execution_count": 5,
   "id": "00a8a568",
   "metadata": {},
   "outputs": [],
   "source": [
    "from pyspark.sql import SparkSession"
   ]
  },
  {
   "cell_type": "code",
   "execution_count": 6,
   "id": "03dc2271",
   "metadata": {},
   "outputs": [],
   "source": [
    "spark = SparkSession.builder.getOrCreate()"
   ]
  },
  {
   "cell_type": "code",
   "execution_count": 7,
   "id": "e2aa379b",
   "metadata": {},
   "outputs": [],
   "source": [
    "#file shortcut \n",
    "rogfile=r'C:\\sources\\resumo.csv'\n",
    "\n",
    "#create dataframe\n",
    "df=spark.read.format(\"csv\").load(rogfile,header=\"true\")"
   ]
  },
  {
   "cell_type": "code",
   "execution_count": 8,
   "id": "35f77383",
   "metadata": {},
   "outputs": [
    {
     "name": "stdout",
     "output_type": "stream",
     "text": [
      "+--------------------+-------------------+-----+\n",
      "|   DEST_COUNTRY_NAME|ORIGIN_COUNTRY_NAME|count|\n",
      "+--------------------+-------------------+-----+\n",
      "|       United States|            Romania|   15|\n",
      "|       United States|            Croatia|    1|\n",
      "|       United States|            Ireland|  344|\n",
      "|               Egypt|      United States|   15|\n",
      "|       United States|              India|   62|\n",
      "|       United States|          Singapore|    1|\n",
      "|       United States|            Grenada|   62|\n",
      "|          Costa Rica|      United States|  588|\n",
      "|             Senegal|      United States|   40|\n",
      "|             Moldova|      United States|    1|\n",
      "|       United States|       Sint Maarten|  325|\n",
      "|       United States|   Marshall Islands|   39|\n",
      "|              Guyana|      United States|   64|\n",
      "|               Malta|      United States|    1|\n",
      "|            Anguilla|      United States|   41|\n",
      "|             Bolivia|      United States|   30|\n",
      "|       United States|           Paraguay|    6|\n",
      "|             Algeria|      United States|    4|\n",
      "|Turks and Caicos ...|      United States|  230|\n",
      "|       United States|          Gibraltar|    1|\n",
      "+--------------------+-------------------+-----+\n",
      "only showing top 20 rows\n",
      "\n"
     ]
    }
   ],
   "source": [
    "df.show()"
   ]
  },
  {
   "cell_type": "code",
   "execution_count": 9,
   "id": "f1bed105",
   "metadata": {},
   "outputs": [
    {
     "name": "stdout",
     "output_type": "stream",
     "text": [
      "+-----------------+--------------------+-----+\n",
      "|DEST_COUNTRY_NAME| ORIGIN_COUNTRY_NAME|count|\n",
      "+-----------------+--------------------+-----+\n",
      "|    United States|              Angola|   13|\n",
      "|    United States|            Anguilla|   38|\n",
      "|    United States| Antigua and Barbuda|  117|\n",
      "|    United States|           Argentina|  141|\n",
      "|    United States|               Aruba|  342|\n",
      "|    United States|           Australia|  258|\n",
      "|    United States|             Austria|   63|\n",
      "|    United States|          Azerbaijan|   21|\n",
      "|    United States|             Bahrain|    1|\n",
      "|    United States|            Barbados|  130|\n",
      "|    United States|             Belgium|  228|\n",
      "|    United States|              Belize|  193|\n",
      "|    United States|             Bermuda|  193|\n",
      "|    United States|             Bolivia|   13|\n",
      "|    United States|Bonaire, Sint Eus...|   59|\n",
      "|    United States|              Brazil|  619|\n",
      "|    United States|British Virgin Is...|   80|\n",
      "|    United States|            Bulgaria|    1|\n",
      "|    United States|              Canada| 8483|\n",
      "|    United States|          Cape Verde|   14|\n",
      "+-----------------+--------------------+-----+\n",
      "only showing top 20 rows\n",
      "\n"
     ]
    }
   ],
   "source": [
    "df.filter(\"DEST_COUNTRY_NAME='United States'\").sort(\"ORIGIN_COUNTRY_NAME\",ascending=[True]).show()"
   ]
  },
  {
   "cell_type": "code",
   "execution_count": 10,
   "id": "f3be4b40",
   "metadata": {},
   "outputs": [],
   "source": [
    "df_usa=df.sort(\"count\",ascending=[True]).filter(\"DEST_COUNTRY_NAME='United States'\").filter(\"count>=100\")"
   ]
  },
  {
   "cell_type": "code",
   "execution_count": 11,
   "id": "e24ebc90",
   "metadata": {},
   "outputs": [
    {
     "name": "stdout",
     "output_type": "stream",
     "text": [
      "+-----------------+--------------------+-----+\n",
      "|DEST_COUNTRY_NAME| ORIGIN_COUNTRY_NAME|count|\n",
      "+-----------------+--------------------+-----+\n",
      "|    United States|               Qatar|  109|\n",
      "|    United States|              Norway|  115|\n",
      "|    United States| Antigua and Barbuda|  117|\n",
      "|    United States|              Sweden|  119|\n",
      "|    United States|         Philippines|  126|\n",
      "|    United States|              Israel|  127|\n",
      "|    United States|              Turkey|  129|\n",
      "|    United States|            Barbados|  130|\n",
      "|    United States|             Germany| 1336|\n",
      "|    United States|          Luxembourg|  134|\n",
      "|    United States|            Portugal|  134|\n",
      "|    United States|         Saint Lucia|  136|\n",
      "|    United States|           Argentina|  141|\n",
      "|    United States|  Dominican Republic| 1420|\n",
      "|    United States|Saint Kitts and N...|  145|\n",
      "|    United States|               Japan| 1496|\n",
      "|    United States|             Denmark|  152|\n",
      "|    United States|              Russia|  161|\n",
      "|    United States|               Chile|  185|\n",
      "|    United States|              Belize|  193|\n",
      "+-----------------+--------------------+-----+\n",
      "only showing top 20 rows\n",
      "\n"
     ]
    }
   ],
   "source": [
    "df_usa.show()"
   ]
  },
  {
   "cell_type": "code",
   "execution_count": 12,
   "id": "eb9a5045",
   "metadata": {},
   "outputs": [
    {
     "name": "stdout",
     "output_type": "stream",
     "text": [
      "+---------------------------------+\n",
      "|DEST_COUNTRY_NAME                |\n",
      "+---------------------------------+\n",
      "|Algeria                          |\n",
      "|Angola                           |\n",
      "|Anguilla                         |\n",
      "|Antigua and Barbuda              |\n",
      "|Argentina                        |\n",
      "|Aruba                            |\n",
      "|Australia                        |\n",
      "|Austria                          |\n",
      "|Azerbaijan                       |\n",
      "|Bahrain                          |\n",
      "|Barbados                         |\n",
      "|Belgium                          |\n",
      "|Belize                           |\n",
      "|Bermuda                          |\n",
      "|Bolivia                          |\n",
      "|Bonaire, Sint Eustatius, and Saba|\n",
      "|Brazil                           |\n",
      "|British Virgin Islands           |\n",
      "|Bulgaria                         |\n",
      "|Burkina Faso                     |\n",
      "|Canada                           |\n",
      "|Cape Verde                       |\n",
      "|Cayman Islands                   |\n",
      "|Chile                            |\n",
      "|China                            |\n",
      "|Colombia                         |\n",
      "|Cook Islands                     |\n",
      "|Costa Rica                       |\n",
      "|Cote d'Ivoire                    |\n",
      "|Croatia                          |\n",
      "|Cuba                             |\n",
      "|Curacao                          |\n",
      "|Cyprus                           |\n",
      "|Czech Republic                   |\n",
      "|Denmark                          |\n",
      "|Djibouti                         |\n",
      "|Dominica                         |\n",
      "|Dominican Republic               |\n",
      "|Ecuador                          |\n",
      "|Egypt                            |\n",
      "|El Salvador                      |\n",
      "|Ethiopia                         |\n",
      "|Federated States of Micronesia   |\n",
      "|Fiji                             |\n",
      "|Finland                          |\n",
      "|France                           |\n",
      "|French Guiana                    |\n",
      "|French Polynesia                 |\n",
      "|Georgia                          |\n",
      "|Germany                          |\n",
      "|Ghana                            |\n",
      "|Greece                           |\n",
      "|Greenland                        |\n",
      "|Grenada                          |\n",
      "|Guadeloupe                       |\n",
      "|Guatemala                        |\n",
      "|Guyana                           |\n",
      "|Haiti                            |\n",
      "|Honduras                         |\n",
      "|Hong Kong                        |\n",
      "|Hungary                          |\n",
      "|Iceland                          |\n",
      "|India                            |\n",
      "|Indonesia                        |\n",
      "|Iraq                             |\n",
      "|Ireland                          |\n",
      "|Israel                           |\n",
      "|Italy                            |\n",
      "|Jamaica                          |\n",
      "|Japan                            |\n",
      "|Jordan                           |\n",
      "|Kiribati                         |\n",
      "|Kosovo                           |\n",
      "|Kuwait                           |\n",
      "|Latvia                           |\n",
      "|Liberia                          |\n",
      "|Luxembourg                       |\n",
      "|Malaysia                         |\n",
      "|Malta                            |\n",
      "|Marshall Islands                 |\n",
      "|Martinique                       |\n",
      "|Mexico                           |\n",
      "|Moldova                          |\n",
      "|Morocco                          |\n",
      "|Netherlands                      |\n",
      "|New Caledonia                    |\n",
      "|New Zealand                      |\n",
      "|Nicaragua                        |\n",
      "|Niger                            |\n",
      "|Nigeria                          |\n",
      "|Norway                           |\n",
      "|Pakistan                         |\n",
      "|Palau                            |\n",
      "|Panama                           |\n",
      "|Papua New Guinea                 |\n",
      "|Paraguay                         |\n",
      "|Peru                             |\n",
      "|Philippines                      |\n",
      "|Poland                           |\n",
      "|Portugal                         |\n",
      "|Qatar                            |\n",
      "|Romania                          |\n",
      "|Russia                           |\n",
      "|Saint Barthelemy                 |\n",
      "|Saint Kitts and Nevis            |\n",
      "|Saint Lucia                      |\n",
      "|Saint Vincent and the Grenadines |\n",
      "|Samoa                            |\n",
      "|Saudi Arabia                     |\n",
      "|Senegal                          |\n",
      "|Singapore                        |\n",
      "|Sint Maarten                     |\n",
      "|South Africa                     |\n",
      "|South Korea                      |\n",
      "|Spain                            |\n",
      "|Suriname                         |\n",
      "|Sweden                           |\n",
      "|Switzerland                      |\n",
      "|Taiwan                           |\n",
      "|Thailand                         |\n",
      "|The Bahamas                      |\n",
      "|Trinidad and Tobago              |\n",
      "|Tunisia                          |\n",
      "|Turkey                           |\n",
      "|Turks and Caicos Islands         |\n",
      "|Ukraine                          |\n",
      "|United Arab Emirates             |\n",
      "|United Kingdom                   |\n",
      "|United States                    |\n",
      "|Uruguay                          |\n",
      "|Venezuela                        |\n",
      "|Zambia                           |\n",
      "+---------------------------------+\n",
      "\n"
     ]
    }
   ],
   "source": [
    "df.dropDuplicates([\"DEST_COUNTRY_NAME\"]).select(\"DEST_COUNTRY_NAME\").sort(\"DEST_COUNTRY_NAME\",ascending=[True]).show(300,truncate=False)"
   ]
  },
  {
   "cell_type": "code",
   "execution_count": null,
   "id": "c11abdb7",
   "metadata": {},
   "outputs": [],
   "source": []
  }
 ],
 "metadata": {
  "kernelspec": {
   "display_name": "Python 3 (ipykernel)",
   "language": "python",
   "name": "python3"
  },
  "language_info": {
   "codemirror_mode": {
    "name": "ipython",
    "version": 3
   },
   "file_extension": ".py",
   "mimetype": "text/x-python",
   "name": "python",
   "nbconvert_exporter": "python",
   "pygments_lexer": "ipython3",
   "version": "3.7.0"
  }
 },
 "nbformat": 4,
 "nbformat_minor": 5
}
