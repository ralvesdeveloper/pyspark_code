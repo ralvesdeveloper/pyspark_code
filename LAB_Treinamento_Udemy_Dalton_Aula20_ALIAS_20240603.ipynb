{
 "cells": [
  {
   "cell_type": "code",
   "execution_count": 2,
   "id": "44f5df65",
   "metadata": {},
   "outputs": [],
   "source": [
    "#Aula 10 - criar colunas no DF"
   ]
  },
  {
   "cell_type": "code",
   "execution_count": 3,
   "id": "c21cb051",
   "metadata": {},
   "outputs": [],
   "source": [
    "#seção imports\n",
    "import findspark\n",
    "import os\n",
    "import pyspark.sql.functions as R"
   ]
  },
  {
   "cell_type": "code",
   "execution_count": 4,
   "id": "16bceb3f",
   "metadata": {},
   "outputs": [],
   "source": [
    "from pyspark.sql import SparkSession"
   ]
  },
  {
   "cell_type": "code",
   "execution_count": 5,
   "id": "1d422206",
   "metadata": {},
   "outputs": [],
   "source": [
    "# Este seção cria o APPNAME e configura o formato de saida da função show()\n",
    "spark = ( \n",
    "    SparkSession.builder\n",
    "    .master(\"local\")\n",
    "    .appName('ralves_sess_2')\n",
    "    .config (\"spark.sql.repl.eagerEval.enabled\",True)\n",
    "    .getOrCreate()\n",
    ")"
   ]
  },
  {
   "cell_type": "code",
   "execution_count": 6,
   "id": "a8601a32",
   "metadata": {},
   "outputs": [
    {
     "data": {
      "text/html": [
       "\n",
       "            <div>\n",
       "                <p><b>SparkSession - in-memory</b></p>\n",
       "                \n",
       "        <div>\n",
       "            <p><b>SparkContext</b></p>\n",
       "\n",
       "            <p><a href=\"http://INEX-5098.portoseguro.brasil:4044\">Spark UI</a></p>\n",
       "\n",
       "            <dl>\n",
       "              <dt>Version</dt>\n",
       "                <dd><code>v2.4.8</code></dd>\n",
       "              <dt>Master</dt>\n",
       "                <dd><code>local</code></dd>\n",
       "              <dt>AppName</dt>\n",
       "                <dd><code>ralves_sess_2</code></dd>\n",
       "            </dl>\n",
       "        </div>\n",
       "        \n",
       "            </div>\n",
       "        "
      ],
      "text/plain": [
       "<pyspark.sql.session.SparkSession at 0x2d9ce23b780>"
      ]
     },
     "execution_count": 6,
     "metadata": {},
     "output_type": "execute_result"
    }
   ],
   "source": [
    "spark"
   ]
  },
  {
   "cell_type": "code",
   "execution_count": 7,
   "id": "d2b211f5",
   "metadata": {},
   "outputs": [],
   "source": [
    "#comando para parar uma seção SPARK\n",
    "# spark.stop()"
   ]
  },
  {
   "cell_type": "code",
   "execution_count": 8,
   "id": "bdb0ca65",
   "metadata": {},
   "outputs": [
    {
     "name": "stdout",
     "output_type": "stream",
     "text": [
      "3.7.0\n"
     ]
    }
   ],
   "source": [
    "#describe python version\n",
    "from platform import python_version\n",
    "print(python_version())"
   ]
  },
  {
   "cell_type": "code",
   "execution_count": 9,
   "id": "faa36636",
   "metadata": {},
   "outputs": [],
   "source": [
    "cliente_usa = spark.createDataFrame([(1,\"Mike\"),(2,\"Steve\")],[\"id\",\"cliente\"])\n",
    "cliente_brazil = spark.createDataFrame([(\"Zé\",1),(\"Joao\",2)],[\"cliente\",\"id\"])"
   ]
  },
  {
   "cell_type": "code",
   "execution_count": 18,
   "id": "cd7b866c",
   "metadata": {},
   "outputs": [],
   "source": [
    "new_cliente=cliente_usa.union(cliente_brazil)"
   ]
  },
  {
   "cell_type": "code",
   "execution_count": 19,
   "id": "f833fbd3",
   "metadata": {},
   "outputs": [
    {
     "data": {
      "text/html": [
       "<table border='1'>\n",
       "<tr><th>id</th><th>cliente</th></tr>\n",
       "<tr><td>1</td><td>Mike</td></tr>\n",
       "<tr><td>2</td><td>Steve</td></tr>\n",
       "<tr><td>Zé</td><td>1</td></tr>\n",
       "<tr><td>Joao</td><td>2</td></tr>\n",
       "</table>\n"
      ],
      "text/plain": [
       "+----+-------+\n",
       "|  id|cliente|\n",
       "+----+-------+\n",
       "|   1|   Mike|\n",
       "|   2|  Steve|\n",
       "|  Zé|      1|\n",
       "|Joao|      2|\n",
       "+----+-------+"
      ]
     },
     "execution_count": 19,
     "metadata": {},
     "output_type": "execute_result"
    }
   ],
   "source": [
    "new_cliente"
   ]
  },
  {
   "cell_type": "code",
   "execution_count": 20,
   "id": "be226b5f",
   "metadata": {},
   "outputs": [],
   "source": [
    "new_cliente=cliente_usa.unionByName(cliente_brazil)"
   ]
  },
  {
   "cell_type": "code",
   "execution_count": 21,
   "id": "bb99f50b",
   "metadata": {},
   "outputs": [
    {
     "data": {
      "text/html": [
       "<table border='1'>\n",
       "<tr><th>id</th><th>cliente</th></tr>\n",
       "<tr><td>1</td><td>Mike</td></tr>\n",
       "<tr><td>2</td><td>Steve</td></tr>\n",
       "<tr><td>1</td><td>Zé</td></tr>\n",
       "<tr><td>2</td><td>Joao</td></tr>\n",
       "</table>\n"
      ],
      "text/plain": [
       "+---+-------+\n",
       "| id|cliente|\n",
       "+---+-------+\n",
       "|  1|   Mike|\n",
       "|  2|  Steve|\n",
       "|  1|     Zé|\n",
       "|  2|   Joao|\n",
       "+---+-------+"
      ]
     },
     "execution_count": 21,
     "metadata": {},
     "output_type": "execute_result"
    }
   ],
   "source": [
    "new_cliente"
   ]
  },
  {
   "cell_type": "code",
   "execution_count": null,
   "id": "72c3c600",
   "metadata": {},
   "outputs": [],
   "source": []
  }
 ],
 "metadata": {
  "kernelspec": {
   "display_name": "Python 3 (ipykernel)",
   "language": "python",
   "name": "python3"
  },
  "language_info": {
   "codemirror_mode": {
    "name": "ipython",
    "version": 3
   },
   "file_extension": ".py",
   "mimetype": "text/x-python",
   "name": "python",
   "nbconvert_exporter": "python",
   "pygments_lexer": "ipython3",
   "version": "3.7.0"
  }
 },
 "nbformat": 4,
 "nbformat_minor": 5
}
