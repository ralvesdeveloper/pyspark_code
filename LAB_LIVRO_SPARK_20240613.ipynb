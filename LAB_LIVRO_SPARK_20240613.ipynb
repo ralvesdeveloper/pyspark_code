{
 "cells": [
  {
   "cell_type": "code",
   "execution_count": 9,
   "id": "c442a236",
   "metadata": {},
   "outputs": [],
   "source": [
    "#seção imports\n",
    "import findspark\n",
    "import os\n",
    "import pyspark.sql.functions as R\n",
    "from pyspark.sql import SparkSession"
   ]
  },
  {
   "cell_type": "code",
   "execution_count": 10,
   "id": "f797d1a2",
   "metadata": {},
   "outputs": [],
   "source": [
    "# Este seção cria o APPNAME e configura o formato de saida da função show()\n",
    "spark = ( \n",
    "    SparkSession.builder.appName('ralves_book')\n",
    "    .config (\"spark.sql.repl.eagerEval.enabled\",True)\n",
    "    .getOrCreate()\n",
    ")"
   ]
  },
  {
   "cell_type": "code",
   "execution_count": 11,
   "id": "018fda82",
   "metadata": {},
   "outputs": [
    {
     "data": {
      "text/html": [
       "\n",
       "            <div>\n",
       "                <p><b>SparkSession - in-memory</b></p>\n",
       "                \n",
       "        <div>\n",
       "            <p><b>SparkContext</b></p>\n",
       "\n",
       "            <p><a href=\"http://INEX-5098.portoseguro.brasil:4041\">Spark UI</a></p>\n",
       "\n",
       "            <dl>\n",
       "              <dt>Version</dt>\n",
       "                <dd><code>v2.4.8</code></dd>\n",
       "              <dt>Master</dt>\n",
       "                <dd><code>local[*]</code></dd>\n",
       "              <dt>AppName</dt>\n",
       "                <dd><code>ralves_book</code></dd>\n",
       "            </dl>\n",
       "        </div>\n",
       "        \n",
       "            </div>\n",
       "        "
      ],
      "text/plain": [
       "<pyspark.sql.session.SparkSession at 0x1fb821bd208>"
      ]
     },
     "execution_count": 11,
     "metadata": {},
     "output_type": "execute_result"
    }
   ],
   "source": [
    "spark"
   ]
  },
  {
   "cell_type": "code",
   "execution_count": 27,
   "id": "89b53705",
   "metadata": {},
   "outputs": [
    {
     "name": "stdout",
     "output_type": "stream",
     "text": [
      "Collecting graphviz\n",
      "  Downloading https://files.pythonhosted.org/packages/de/5e/fcbb22c68208d39edff467809d06c9d81d7d27426460ebc598e55130c1aa/graphviz-0.20.1-py3-none-any.whl (47kB)\n",
      "Installing collected packages: graphviz\n",
      "Successfully installed graphviz-0.20.1\n",
      "Note: you may need to restart the kernel to use updated packages.\n"
     ]
    },
    {
     "name": "stderr",
     "output_type": "stream",
     "text": [
      "You are using pip version 10.0.1, however version 24.0 is available.\n",
      "You should consider upgrading via the 'python -m pip install --upgrade pip' command.\n"
     ]
    }
   ],
   "source": [
    "pip install graphviz"
   ]
  },
  {
   "cell_type": "code",
   "execution_count": 33,
   "id": "3b2f148c",
   "metadata": {},
   "outputs": [],
   "source": [
    "#file shortcut \n",
    "bookfile=r'C:/sources/2015-summary.csv'\n",
    "\n",
    "#create dataframe\n",
    "rabk=spark.read.format(\"csv\").load(bookfile,header=\"true\")\n"
   ]
  },
  {
   "cell_type": "code",
   "execution_count": 23,
   "id": "75ca49ac",
   "metadata": {},
   "outputs": [],
   "source": [
    "#in Scala\n",
    "flightData2015 = spark\\\n",
    ".read\\\n",
    ".option(\"inferSchema\", \"true\")\\\n",
    ".option(\"header\", \"true\")\\\n",
    ".csv(\"C:/sources/2015-summary.csv\")"
   ]
  },
  {
   "cell_type": "code",
   "execution_count": 24,
   "id": "8dbf8ea0",
   "metadata": {},
   "outputs": [
    {
     "data": {
      "text/html": [
       "<table border='1'>\n",
       "<tr><th>DEST_COUNTRY_NAME</th><th>ORIGIN_COUNTRY_NAME</th><th>count</th></tr>\n",
       "<tr><td>United States</td><td>Romania</td><td>15</td></tr>\n",
       "<tr><td>United States</td><td>Croatia</td><td>1</td></tr>\n",
       "<tr><td>United States</td><td>Ireland</td><td>344</td></tr>\n",
       "<tr><td>Egypt</td><td>United States</td><td>15</td></tr>\n",
       "<tr><td>United States</td><td>India</td><td>62</td></tr>\n",
       "<tr><td>United States</td><td>Singapore</td><td>1</td></tr>\n",
       "<tr><td>United States</td><td>Grenada</td><td>62</td></tr>\n",
       "<tr><td>Costa Rica</td><td>United States</td><td>588</td></tr>\n",
       "<tr><td>Senegal</td><td>United States</td><td>40</td></tr>\n",
       "<tr><td>Moldova</td><td>United States</td><td>1</td></tr>\n",
       "<tr><td>United States</td><td>Sint Maarten</td><td>325</td></tr>\n",
       "<tr><td>United States</td><td>Marshall Islands</td><td>39</td></tr>\n",
       "<tr><td>Guyana</td><td>United States</td><td>64</td></tr>\n",
       "<tr><td>Malta</td><td>United States</td><td>1</td></tr>\n",
       "<tr><td>Anguilla</td><td>United States</td><td>41</td></tr>\n",
       "<tr><td>Bolivia</td><td>United States</td><td>30</td></tr>\n",
       "<tr><td>United States</td><td>Paraguay</td><td>6</td></tr>\n",
       "<tr><td>Algeria</td><td>United States</td><td>4</td></tr>\n",
       "<tr><td>Turks and Caicos ...</td><td>United States</td><td>230</td></tr>\n",
       "<tr><td>United States</td><td>Gibraltar</td><td>1</td></tr>\n",
       "</table>\n",
       "only showing top 20 rows\n"
      ],
      "text/plain": [
       "+--------------------+-------------------+-----+\n",
       "|   DEST_COUNTRY_NAME|ORIGIN_COUNTRY_NAME|count|\n",
       "+--------------------+-------------------+-----+\n",
       "|       United States|            Romania|   15|\n",
       "|       United States|            Croatia|    1|\n",
       "|       United States|            Ireland|  344|\n",
       "|               Egypt|      United States|   15|\n",
       "|       United States|              India|   62|\n",
       "|       United States|          Singapore|    1|\n",
       "|       United States|            Grenada|   62|\n",
       "|          Costa Rica|      United States|  588|\n",
       "|             Senegal|      United States|   40|\n",
       "|             Moldova|      United States|    1|\n",
       "|       United States|       Sint Maarten|  325|\n",
       "|       United States|   Marshall Islands|   39|\n",
       "|              Guyana|      United States|   64|\n",
       "|               Malta|      United States|    1|\n",
       "|            Anguilla|      United States|   41|\n",
       "|             Bolivia|      United States|   30|\n",
       "|       United States|           Paraguay|    6|\n",
       "|             Algeria|      United States|    4|\n",
       "|Turks and Caicos ...|      United States|  230|\n",
       "|       United States|          Gibraltar|    1|\n",
       "+--------------------+-------------------+-----+\n",
       "only showing top 20 rows"
      ]
     },
     "metadata": {},
     "output_type": "display_data"
    }
   ],
   "source": [
    "display(flightData2015 )"
   ]
  },
  {
   "cell_type": "code",
   "execution_count": null,
   "id": "ec17c39f",
   "metadata": {},
   "outputs": [],
   "source": []
  }
 ],
 "metadata": {
  "kernelspec": {
   "display_name": "Python 3 (ipykernel)",
   "language": "python",
   "name": "python3"
  },
  "language_info": {
   "codemirror_mode": {
    "name": "ipython",
    "version": 3
   },
   "file_extension": ".py",
   "mimetype": "text/x-python",
   "name": "python",
   "nbconvert_exporter": "python",
   "pygments_lexer": "ipython3",
   "version": "3.7.0"
  }
 },
 "nbformat": 4,
 "nbformat_minor": 5
}
